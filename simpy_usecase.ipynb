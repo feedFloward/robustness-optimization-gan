{
 "metadata": {
  "language_info": {
   "codemirror_mode": {
    "name": "ipython",
    "version": 3
   },
   "file_extension": ".py",
   "mimetype": "text/x-python",
   "name": "python",
   "nbconvert_exporter": "python",
   "pygments_lexer": "ipython3",
   "version": "3.8.1-final"
  },
  "orig_nbformat": 2,
  "kernelspec": {
   "name": "python_defaultSpec_1598700833579",
   "display_name": "Python 3.8.1 64-bit ('.venv_sim': venv)"
  }
 },
 "nbformat": 4,
 "nbformat_minor": 2,
 "cells": [
  {
   "cell_type": "code",
   "execution_count": null,
   "metadata": {},
   "outputs": [],
   "source": [
    "from robustness_optimization.name_tbd_initialization import read_settings\n",
    "from robustness_optimization.types.optimization_types import Optimization\n",
    "from robustness_optimization.interface import SimpyModel\n",
    "from robustness_optimization.types.sampling_model import SamplingModel\n",
    "\n",
    "import matplotlib.pyplot as plt"
   ]
  },
  {
   "cell_type": "code",
   "execution_count": null,
   "metadata": {
    "tags": []
   },
   "outputs": [],
   "source": [
    "#read settings.json\n",
    "settings = read_settings()\n",
    "#create GAN\n",
    "factor_sampling_model = SamplingModel(**settings.factor_gan_parameter(), model_flag= 'vanilla-gan')\n",
    "noise_sampling_model = SamplingModel(**settings.noise_gan_parameter(), model_flag= 'vanilla-gan')\n",
    "#set simulation model type and path\n",
    "simulation_model = SimpyModel(\"C:/Users/fconrad/git/robustness-optimization-gan/simpy_case_study/model.py\")\n",
    "#initialize optimization\n",
    "optimization = Optimization(\n",
    "    settings= settings,\n",
    "    simulation_model= simulation_model,\n",
    "    factor_sampling_model= factor_sampling_model,\n",
    "    noise_sampling_model= noise_sampling_model,\n",
    ")\n"
   ]
  },
  {
   "cell_type": "code",
   "execution_count": null,
   "metadata": {
    "tags": []
   },
   "outputs": [],
   "source": [
    "history = optimization.run()"
   ]
  },
  {
   "cell_type": "markdown",
   "metadata": {},
   "source": [
    "Beim Starten von der Kommandozeile -> Ergebnisse in /output !"
   ]
  },
  {
   "cell_type": "code",
   "execution_count": null,
   "metadata": {
    "tags": []
   },
   "outputs": [],
   "source": [
    "# results:\n",
    "print(\"best factor config:\")\n",
    "print(history['best_factor_config'])\n",
    "print('worst noise design:')\n",
    "print(history['worst_noise_design'].state)\n",
    "\n",
    "plt.ylabel(\"SN ratio\")\n",
    "plt.xlabel(\"# iteration\")\n",
    "plt.plot(history['sn_history'])"
   ]
  },
  {
   "cell_type": "code",
   "execution_count": null,
   "metadata": {},
   "outputs": [],
   "source": []
  }
 ]
}